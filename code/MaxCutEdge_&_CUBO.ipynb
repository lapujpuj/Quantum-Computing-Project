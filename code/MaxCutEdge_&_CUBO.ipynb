{
 "cells": [
  {
   "cell_type": "markdown",
   "metadata": {},
   "source": [
    "## I. Max Cut edge"
   ]
  },
  {
   "cell_type": "markdown",
   "metadata": {},
   "source": [
    "Le Max Cut Edge Problem est un problème de théorie des graphes. Étant donné un graphe, nous devons trouver le nombre maximal d'arêtes qui peuvent être coupées de manière à diviser le graphe en deux ensembles de sommets disjoints. Les arêtes coupées doivent être telles que le nombre d'arêtes entre les deux ensembles disjoints soit maximisé.\n"
   ]
  },
  {
   "cell_type": "markdown",
   "metadata": {},
   "source": [
    "Ici, nous pouvons examiner quelques cas de base, où nous divisons l'ensemble des nœuds en deux ensembles et comptons le nombre d'arêtes allant d'un ensemble à un autre."
   ]
  },
  {
   "cell_type": "markdown",
   "metadata": {},
   "source": [
    "Avec 2 Noeuds :"
   ]
  },
  {
   "cell_type": "markdown",
   "metadata": {},
   "source": [
    "![Max_Cut_Edge](../fig/02_2_nodes_cuts.png)"
   ]
  },
  {
   "cell_type": "markdown",
   "metadata": {},
   "source": [
    "Avec 3 Noeuds :"
   ]
  },
  {
   "cell_type": "markdown",
   "metadata": {},
   "source": [
    "![Max_Cut_Edge](../fig/02_3_nodes_cuts.png)"
   ]
  },
  {
   "cell_type": "markdown",
   "metadata": {},
   "source": [
    "On peut, par exemple, formuler le cout de notre problème de la manière suivante :\n",
    "\n",
    "\\begin{equation}\n",
    "    C_{total} = \\sum C_{ij} = \\sum \\frac{1}{2} w_{ij} (1 - z_i z_j)\n",
    "\\end{equation}\n",
    "\n",
    "Où\n",
    "\n",
    "\\begin{equation}\n",
    "    z_i = \\begin{cases} 1 & \\text{si le noeud est dans l'ensemble 1} \\\\ -1 & \\text{si le noeud est dans l'ensemble 2} \\end{cases}\n",
    "\\end{equation}\n",
    "\n",
    "Et $w_{ij}$ le poids de l'arête de noeud i au noeud j tel que : \n",
    "\n",
    "\\begin{equation}\n",
    "    w_{ij} = \\begin{cases} 1 & \\text{si il y a un arête du noeud i au noeud j} \\\\ 0 & \\text{otherwise} \\end{cases}\n",
    "\\end{equation}\n",
    "\n",
    "\n",
    "\n"
   ]
  },
  {
   "cell_type": "markdown",
   "metadata": {},
   "source": [
    "## II. Fonction de cout et QUBO ( Quadratic Unconstrained Binary Optimization)"
   ]
  },
  {
   "cell_type": "markdown",
   "metadata": {},
   "source": [
    "### (i) Formulation Explicite"
   ]
  },
  {
   "cell_type": "markdown",
   "metadata": {},
   "source": [
    "Pour résoudre ce problème, c'est-à-dire trouver la valeur minimale possible de notre fonction de coût et l'état associé du système, nous voulons utiliser l'optimisation quantique.\n",
    "\n",
    "Pour encoder le problème dans notre ordinateur quantique, nous utilisons des artefacts de physique quantique qui imposent à la fonction de coût d'avoir la forme d'un hamiltonien Ising.\n",
    "\n",
    "Cela signifie que la fonction de coût doit prendre la forme :\n",
    "\n",
    "\\begin{equation}\n",
    "    H = \\sum_{i} h_i \\sigma_i + \\sum_{i, j} J_{ij} \\sigma_i \\sigma_j\n",
    "\\end{equation}\n",
    "\n",
    "En réalité, le problème du maximum de coupe dans un graphe (max cut) est très proche du modèle Ising, et nous pouvons facilement encoder la fonction de coût dans le modèle Ising.\n",
    "\n",
    "Nous devons simplement définir la correspondance suivante :\n",
    "\n",
    "\\begin{equation}\n",
    "    h_i = 0\n",
    "\\end{equation}\n",
    "\n",
    "et\n",
    "\n",
    "\\begin{equation}\n",
    "    J_{ij} = - \\frac{1}{2} w_{ij}\n",
    "\\end{equation}\n",
    "\n",
    "Nous devons rappeler que nous utilisons des qubits dans les états 0 ou 1, et nous pouvons facilement encoder l'état du système comme suit :\n",
    "\n",
    "\\begin{equation}\n",
    "    \\sigma_i = 2 x_i - 1\n",
    "\\end{equation}\n",
    "\n",
    "Où $x_i$ est l'état du qubit i."
   ]
  },
  {
   "cell_type": "markdown",
   "metadata": {},
   "source": [
    "### (ii) Formulation QUBO du problème"
   ]
  },
  {
   "cell_type": "markdown",
   "metadata": {},
   "source": [
    "En fait, un problème d'optimisation quantique tel que le problème de coupe maximale des arêtes (Max Cut Edge Problem) fait partie d'un ensemble plus vaste de problèmes appelé problèmes d'optimisation binaire quadratique sans contrainte (QUBO).\n",
    "\n",
    "Pour être plus précis, un problème QUBO a une fonction de coût qui peut être écrite comme suit :\n",
    "\n",
    "$$\n",
    "f(x) = \\sum_{i=1}^{n} a_i x_i + \\sum_{i=1}^{n} \\sum_{j=i+1}^{n} b_{ij} x_i x_j\n",
    "$$\n",
    "\n",
    "Où $x_i$ et $x_j$ sont des variables binaires, et $a_i$ et $b_{ij}$ sont des coefficients réels.\n",
    "\n",
    "L'avantage de ces fonctions de coût est qu'elles peuvent être écrites sous la forme d'un hamiltonien Ising, prouvant que ces problèmes peuvent être résolus à l'aide de l'optimisation quantique."
   ]
  },
  {
   "cell_type": "markdown",
   "metadata": {},
   "source": [
    "#### Demonstration que l'Hamiltoinien Ising est un cas particulier du modèle QUBO"
   ]
  },
  {
   "cell_type": "markdown",
   "metadata": {},
   "source": [
    "Le problème QUBO est très étroitement lié et équivalent en termes de calcul au *modèle Ising*, dont la *fonction Hamiltonienne* est définie comme suit :\n",
    "\\begin{align}\n",
    "H(\\sigma) &= -\\sum_{\\langle i~j\\rangle} J_{ij} \\sigma_i \\sigma_j - \\mu \\sum_j h_j \\sigma_j\n",
    "\\end{align}\n",
    "avec des paramètres réels $h_j, J_{ij}, \\mu$ pour tous les indices $i, j$.\n",
    "Les *variables de spin* $\\sigma_j$ sont binaires avec des valeurs issues de $\\{-1, +1\\}$ au lieu de $\\mathbb{B}$.\n",
    "De plus, dans le modèle Ising, les variables sont généralement disposées en un réseau où seuls les paires de variables voisines $\\langle i~j\\rangle$ peuvent avoir des coefficients non nuls.\n",
    "L'application de l'identité $\\sigma\\mapsto 2x-1$ donne un problème QUBO équivalent : \\cite{nom}\n",
    "\\begin{align}\n",
    "f(x) &= \\sum_{\\langle i~j\\rangle} -J_{ij}(2x_i-1)(2x_j-1) +\\sum_{j}\\mu h_j(2x_j-1) \\\\\n",
    "&= \\sum_{\\langle i~j\\rangle} (-4J_{ij}x_ix_j +2J_{ij}x_i +2J_{ij}x_j -J_{ij}) +\\sum_{j}(2\\mu h_jx_j-\\mu h_j) &&\\text{en utilisant } x_j=x_jx_j\\\\\n",
    "&= \\sum_{\\langle i~j\\rangle} (-4J_{ij}x_ix_j) + \\sum_{\\langle i~j\\rangle}2J_{ij}x_i + \\sum_{\\langle i~j\\rangle}2J_{ij}x_j +\\sum_{j}2\\mu h_jx_j -\\sum_{\\langle i~j\\rangle}J_{ij} -\\sum_{j}\\mu h_j\\\\\n",
    "&= \\sum_{\\langle i~j\\rangle} (-4J_{ij}x_ix_j) + \\sum_{\\langle j~i\\rangle}2J_{ji}x_j + \\sum_{\\langle i~j\\rangle}2J_{ij}x_j +\\sum_{j}2\\mu h_jx_j -\\sum_{\\langle i~j\\rangle}J_{ij} -\\sum_{j}\\mu h_j &&\\text{en utilisant } \\sum_{\\langle i~j\\rangle}=\\sum_{\\langle j~i\\rangle}\\\\\n",
    "&= \\sum_{\\langle i~j\\rangle} (-4J_{ij}x_ix_j) + \\sum_j\\sum_{\\langle k=j~i\\rangle}2J_{ki}x_j + \\sum_j\\sum_{\\langle i~k=j\\rangle}2J_{ik}x_j +\\sum_{j}2\\mu h_jx_j -\\sum_{\\langle i~j\\rangle}J_{ij} -\\sum_{j}\\mu h_j\\\\\n",
    "&= \\sum_{\\langle i~j\\rangle} (-4J_{ij}x_ix_j) + \\sum_j \\left(\\sum_{\\langle i~k=j\\rangle}(2J_{ki} + 2J_{ik}) + 2\\mu h_j \\right)x_j -\\sum_{\\langle i~j\\rangle}J_{ij} -\\sum_{j}\\mu h_j &&\\text{en utilisant } \\sum_{\\langle k=j~i\\rangle}=\\sum_{\\langle i~k=j\\rangle}\\\\\n",
    "&= \\sum_{i=1}^{n} \\sum_{j=1}^i Q_{ij}x_ix_j + C\n",
    "\\end{align}\n",
    "où\n",
    "\\begin{align}\n",
    "Q_{ij} &= \\begin{cases}-4J_{ij} &\\text{si } i\\neq j \\\\\n",
    "\\sum_{\\langle i~k=j\\rangle}(2J_{ki} + 2J_{ik}) + 2\\mu h_j &\\text{si } i=j\\end{cases} \\\\\n",
    "C &= -\\sum_{\\langle i~j\\rangle}J_{ij} -\\sum_{j}\\mu h_j\n",
    "\\end{align}\n",
    "et en utilisant le fait que pour une variable binaire $ x_j = x_j x_j $.\n",
    "\n",
    "Comme la constante $C$ ne change pas la position de l'optimum $x^*$, elle peut être négligée lors de l'optimisation et n'est importante que pour retrouver la valeur de la fonction Hamiltonienne originale."
   ]
  },
  {
   "cell_type": "markdown",
   "metadata": {},
   "source": [
    "## III. Encodage et resolution du problème"
   ]
  },
  {
   "cell_type": "code",
   "execution_count": 118,
   "metadata": {},
   "outputs": [],
   "source": [
    "import numpy as np\n",
    "import networkx as nx\n",
    "import matplotlib.pyplot as plt\n",
    "from collections import defaultdict\n",
    "from operator import itemgetter\n",
    "from dwave.system.samplers import DWaveSampler\n",
    "from dwave.system.composites import EmbeddingComposite\n",
    "from dwave.cloud import Client"
   ]
  },
  {
   "cell_type": "code",
   "execution_count": 119,
   "metadata": {},
   "outputs": [
    {
     "data": {
      "image/png": "[encoded data removed]",
      "text/plain": [
       "<Figure size 640x480 with 1 Axes>"
      ]
     },
     "metadata": {},
     "output_type": "display_data"
    }
   ],
   "source": [
    "G = nx.Graph()\n",
    "G.add_edges_from([[0,3],[0,4],[1,3],[1,4],[2,3],[2,4], [3,5], [1,3], [6,7], [2,7], [5,7], [3,5]])\n",
    "nx.draw(G, pos=nx.bipartite_layout(G, [0,1,2]))"
   ]
  },
  {
   "cell_type": "code",
   "execution_count": 126,
   "metadata": {},
   "outputs": [],
   "source": [
    "# ------- Set up our QUBO dictionary -------\n",
    "\n",
    "# Initialize our h vector, J matrix\n",
    "h = defaultdict(int)\n",
    "J = defaultdict(int)\n",
    "\n",
    "# Update J matrix for every edge in the graph\n",
    "for i, j in G.edges:\n",
    "    J[(i,j)]+= 1\n"
   ]
  },
  {
   "cell_type": "code",
   "execution_count": null,
   "metadata": {},
   "outputs": [],
   "source": [
    "# ------- Run our QUBO on the QPU -------\n",
    "\n",
    "\n",
    "client = Client.from_config(config_file=\"C:/Users/Martin/Desktop/Github/quantum_annealing/dwave.conf\", profile=\"bqm\")\n",
    "\n",
    "sampler = EmbeddingComposite(DWaveSampler())\n",
    "\n",
    "\n",
    "# Set up QPU parameters\n",
    "chainstrength = 2\n",
    "numruns = 10\n"
   ]
  },
  {
   "cell_type": "code",
   "execution_count": 128,
   "metadata": {},
   "outputs": [
    {
     "name": "stdout",
     "output_type": "stream",
     "text": [
      "   0  1  2  3  4  5  6  7 energy num_oc. chain_.\n",
      "0 -1 -1 -1 +1 +1 -1 -1 +1  -10.0       2     0.0\n",
      "1 +1 +1 +1 -1 -1 +1 +1 -1  -10.0       8     0.0\n",
      "['SPIN', 2 rows, 10 samples, 8 variables]\n"
     ]
    }
   ],
   "source": [
    "# Run the QUBO on the solver from your config file\n",
    "# sampler = EmbeddingComposite(DWaveSampler())\n",
    "response = sampler.sample_ising(h, J,\n",
    "                                chain_strength=chainstrength,\n",
    "                                num_reads=numruns,\n",
    "                                label='Example - Maximum Cut Ising')\n",
    "\n",
    "print(response)"
   ]
  },
  {
   "cell_type": "code",
   "execution_count": 129,
   "metadata": {},
   "outputs": [
    {
     "name": "stdout",
     "output_type": "stream",
     "text": [
      "------------------------------------------------------------\n",
      "          Set 0          Set 1    Energy        Cut Size    \n",
      "------------------------------------------------------------\n",
      "[0, 1, 2, 5, 6]      [3, 4, 7]     -10.0            8       \n",
      "      [3, 4, 7][0, 1, 2, 5, 6]     -10.0            8       \n"
     ]
    }
   ],
   "source": [
    "# ------- Print results to user -------\n",
    "print('-' * 60)\n",
    "print('{:>15s}{:>15s}{:^15s}{:^15s}'.format('Set 0','Set 1','Energy','Cut Size'))\n",
    "print('-' * 60)\n",
    "for sample, E in response.data(fields=['sample','energy']):\n",
    "    S0 = [k for k,v in sample.items() if v == -1]\n",
    "    S1 = [k for k,v in sample.items() if v == 1]\n",
    "    print('{:>15s}{:>15s}{:^15s}{:^15s}'.format(str(S0),str(S1),str(E),str(int((6-E)/2))))\n",
    "\n"
   ]
  },
  {
   "cell_type": "code",
   "execution_count": 134,
   "metadata": {},
   "outputs": [
    {
     "name": "stdout",
     "output_type": "stream",
     "text": [
      "\n",
      "Your plot is saved to maxcut_plot_ising.png\n"
     ]
    },
    {
     "data": {
      "image/png": "[encoded data removed]",
      "text/plain": [
       "<Figure size 640x480 with 1 Axes>"
      ]
     },
     "metadata": {},
     "output_type": "display_data"
    }
   ],
   "source": [
    "# ------- Display results to user -------\n",
    "# Grab best result\n",
    "# Note: \"best\" result is the result with the lowest energy\n",
    "# Note2: the look up table (lut) is a dictionary, where the key is the node index\n",
    "#   and the value is the set label. For example, lut[5] = 1, indicates that\n",
    "#   node 5 is in set 1 (S1).\n",
    "lut = response.first.sample\n",
    "\n",
    "# Interpret best result in terms of nodes and edges\n",
    "S0 = [node for node in G.nodes if lut[node]==-1]\n",
    "S1 = [node for node in G.nodes if lut[node]==1]\n",
    "cut_edges = [(u, v) for u, v in G.edges if lut[u]!=lut[v]]\n",
    "uncut_edges = [(u, v) for u, v in G.edges if lut[u]==lut[v]]\n",
    "\n",
    "# Display best result\n",
    "pos = nx.spring_layout(G)\n",
    "nx.draw_networkx_nodes(G, pos, nodelist=S0, node_color='r')\n",
    "nx.draw_networkx_nodes(G, pos, nodelist=S1, node_color='c')\n",
    "nx.draw_networkx_edges(G, pos, edgelist=cut_edges, style='dashdot', alpha=0.5, width=3)\n",
    "nx.draw_networkx_edges(G, pos, edgelist=uncut_edges, style='solid', width=3)\n",
    "nx.draw_networkx_labels(G, pos)\n",
    "\n",
    "filename = \"maxcut_plot_ising.png\"\n",
    "plt.savefig(filename, bbox_inches='tight')\n",
    "print(\"\\nYour plot is saved to {}\".format(filename))"
   ]
  }
 ],
 "metadata": {
  "kernelspec": {
   "display_name": "Python 3",
   "language": "python",
   "name": "python3"
  },
  "language_info": {
   "codemirror_mode": {
    "name": "ipython",
    "version": 3
   },
   "file_extension": ".py",
   "mimetype": "text/x-python",
   "name": "python",
   "nbconvert_exporter": "python",
   "pygments_lexer": "ipython3",
   "version": "3.11.2"
  }
 },
 "nbformat": 4,
 "nbformat_minor": 2
}
